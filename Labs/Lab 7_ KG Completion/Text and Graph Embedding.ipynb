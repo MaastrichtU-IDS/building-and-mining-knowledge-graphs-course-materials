{
 "cells": [
  {
   "cell_type": "code",
   "execution_count": 2,
   "metadata": {},
   "outputs": [],
   "source": [
    "import argparse\n",
    "import gzip, os, csv\n",
    "import numpy as np\n",
    "import random\n",
    "import time"
   ]
  },
  {
   "cell_type": "markdown",
   "metadata": {},
   "source": [
    "# word2vec learning"
   ]
  },
  {
   "cell_type": "code",
   "execution_count": 3,
   "metadata": {},
   "outputs": [
    {
     "name": "stdout",
     "output_type": "stream",
     "text": [
      "Requirement already satisfied: gensim in /opt/conda/lib/python3.6/site-packages (3.6.0)\n",
      "Requirement already satisfied: smart-open>=1.2.1 in /opt/conda/lib/python3.6/site-packages (from gensim) (1.7.1)\n",
      "Requirement already satisfied: six>=1.5.0 in /home/jovyan/.local/lib/python3.6/site-packages (from gensim) (1.10.0)\n",
      "Requirement already satisfied: numpy>=1.11.3 in /opt/conda/lib/python3.6/site-packages (from gensim) (1.15.4)\n",
      "Requirement already satisfied: scipy>=0.18.1 in /opt/conda/lib/python3.6/site-packages (from gensim) (1.1.0)\n",
      "Requirement already satisfied: requests in /opt/conda/lib/python3.6/site-packages (from smart-open>=1.2.1->gensim) (2.20.1)\n",
      "Requirement already satisfied: bz2file in /opt/conda/lib/python3.6/site-packages (from smart-open>=1.2.1->gensim) (0.98)\n",
      "Requirement already satisfied: boto>=2.32 in /opt/conda/lib/python3.6/site-packages (from smart-open>=1.2.1->gensim) (2.49.0)\n",
      "Requirement already satisfied: boto3 in /opt/conda/lib/python3.6/site-packages (from smart-open>=1.2.1->gensim) (1.9.57)\n",
      "Requirement already satisfied: chardet<3.1.0,>=3.0.2 in /home/jovyan/.local/lib/python3.6/site-packages (from requests->smart-open>=1.2.1->gensim) (3.0.4)\n",
      "Requirement already satisfied: certifi>=2017.4.17 in /opt/conda/lib/python3.6/site-packages (from requests->smart-open>=1.2.1->gensim) (2018.11.29)\n",
      "Requirement already satisfied: idna<2.8,>=2.5 in /opt/conda/lib/python3.6/site-packages (from requests->smart-open>=1.2.1->gensim) (2.7)\n",
      "Requirement already satisfied: urllib3<1.25,>=1.21.1 in /opt/conda/lib/python3.6/site-packages (from requests->smart-open>=1.2.1->gensim) (1.23)\n",
      "Requirement already satisfied: botocore<1.13.0,>=1.12.57 in /opt/conda/lib/python3.6/site-packages (from boto3->smart-open>=1.2.1->gensim) (1.12.57)\n",
      "Requirement already satisfied: jmespath<1.0.0,>=0.7.1 in /opt/conda/lib/python3.6/site-packages (from boto3->smart-open>=1.2.1->gensim) (0.9.3)\n",
      "Requirement already satisfied: s3transfer<0.2.0,>=0.1.10 in /opt/conda/lib/python3.6/site-packages (from boto3->smart-open>=1.2.1->gensim) (0.1.13)\n",
      "Requirement already satisfied: python-dateutil<3.0.0,>=2.1; python_version >= \"2.7\" in /opt/conda/lib/python3.6/site-packages (from botocore<1.13.0,>=1.12.57->boto3->smart-open>=1.2.1->gensim) (2.7.5)\n",
      "Requirement already satisfied: docutils>=0.10 in /opt/conda/lib/python3.6/site-packages (from botocore<1.13.0,>=1.12.57->boto3->smart-open>=1.2.1->gensim) (0.14)\n",
      "\u001b[33mYou are using pip version 19.0.2, however version 19.0.3 is available.\n",
      "You should consider upgrading via the 'pip install --upgrade pip' command.\u001b[0m\n"
     ]
    }
   ],
   "source": [
    "!pip install gensim --user"
   ]
  },
  {
   "cell_type": "code",
   "execution_count": 4,
   "metadata": {},
   "outputs": [],
   "source": [
    "import gensim\n",
    "class MySentences(object):\n",
    "    def __init__(self, dirname):\n",
    "        self.dirname = dirname\n",
    " \n",
    "    def __iter__(self):\n",
    "        for fname in os.listdir(self.dirname):\n",
    "            #print (fname)\n",
    "            for line in open(os.path.join(self.dirname, fname)):\n",
    "                yield line.lower().split()"
   ]
  },
  {
   "cell_type": "code",
   "execution_count": 5,
   "metadata": {},
   "outputs": [],
   "source": [
    "sentences = MySentences('people/') # a memory-friendly iterator"
   ]
  },
  {
   "cell_type": "code",
   "execution_count": 7,
   "metadata": {},
   "outputs": [],
   "source": [
    "model = gensim.models.Word2Vec(size=200, workers=8, window=5, sg=1, negative=15, iter=5)\n",
    "model.build_vocab(sentences)\n"
   ]
  },
  {
   "cell_type": "code",
   "execution_count": 8,
   "metadata": {},
   "outputs": [
    {
     "data": {
      "text/plain": [
       "(253795, 445045)"
      ]
     },
     "execution_count": 8,
     "metadata": {},
     "output_type": "execute_result"
    }
   ],
   "source": [
    "corpus_count = model.corpus_count\n",
    "model.train(sentences, total_examples=corpus_count, epochs =5)"
   ]
  },
  {
   "cell_type": "code",
   "execution_count": 10,
   "metadata": {},
   "outputs": [
    {
     "name": "stderr",
     "output_type": "stream",
     "text": [
      "/opt/conda/lib/python3.6/site-packages/gensim/matutils.py:737: FutureWarning: Conversion of the second argument of issubdtype from `int` to `np.signedinteger` is deprecated. In future, it will be treated as `np.int64 == np.dtype(int).type`.\n",
      "  if np.issubdtype(vec.dtype, np.int):\n"
     ]
    },
    {
     "data": {
      "text/plain": [
       "[('casino', 0.9981303215026855),\n",
       " ('number', 0.9958279132843018),\n",
       " ('estate', 0.9951328635215759),\n",
       " ('organization', 0.9949161410331726),\n",
       " ('compared', 0.9937310814857483),\n",
       " ('called', 0.9934476613998413),\n",
       " ('wearing', 0.9932417869567871),\n",
       " ('golf', 0.9931994676589966),\n",
       " ('told', 0.9927423596382141),\n",
       " ('pay', 0.9926958084106445)]"
      ]
     },
     "execution_count": 10,
     "metadata": {},
     "output_type": "execute_result"
    }
   ],
   "source": [
    "model.wv.most_similar('hotel')"
   ]
  },
  {
   "cell_type": "markdown",
   "metadata": {},
   "source": [
    "# RDF2Vec training"
   ]
  },
  {
   "cell_type": "code",
   "execution_count": 11,
   "metadata": {},
   "outputs": [],
   "source": [
    "## create data structure for knowledge graph\n",
    "def addTriple(net, source, target, edge):\n",
    "    if source in net:\n",
    "        if  target in net[source]:\n",
    "            net[source][target].add(edge)\n",
    "        else:\n",
    "            net[source][target]= set([edge])\n",
    "    else:\n",
    "        net[source]={}\n",
    "        net[source][target] =set([edge])\n",
    "            \n",
    "def getLinks(net, source):\n",
    "    if source not in net:\n",
    "        return {}\n",
    "    return net[source]\n",
    "\n",
    "# Generate paths (entity->relation->entity) by radom walks\n",
    "def randomWalkUniform(triples, startNode, max_depth=5):\n",
    "    next_node =startNode\n",
    "    path = str(startNode)+'->'\n",
    "    for i in range(max_depth):\n",
    "        neighs = getLinks(triples,next_node)\n",
    "        #print (neighs)\n",
    "        if len(neighs) == 0: break\n",
    "        weights = []\n",
    "        queue = []\n",
    "        for neigh in neighs:\n",
    "            for edge in neighs[neigh]:\n",
    "                queue.append((edge,neigh))\n",
    "        edge, next_node = random.choice(queue)\n",
    "        path = path +str(edge)+'->'\n",
    "        path = path +str(next_node)+'->'\n",
    "    path =path.split('->')\n",
    "    return path"
   ]
  },
  {
   "cell_type": "code",
   "execution_count": 12,
   "metadata": {},
   "outputs": [],
   "source": [
    "# Build the knowledge graph structure\n",
    "def preprocess(fname):\n",
    "    triples = {}\n",
    "\n",
    "    ent_counter = 0\n",
    "    rel_counter = 0\n",
    "    train_counter = 0\n",
    "\n",
    "    print (fname)\n",
    "    #gzfile= gzip.open(fname, mode='rt')\n",
    "\n",
    "    for line in csv.reader(open(fname), delimiter='\\t', quotechar='\"'):\n",
    "        #print (line)\n",
    "        h = line[0]\n",
    "        r = line[1]\n",
    "        t = line[2]\n",
    "        \n",
    "        train_counter +=1\n",
    "\n",
    "        addTriple(triples, h, t, r)\n",
    "        train_counter+=1\n",
    "    print ('Triple:',train_counter)\n",
    "    return triples"
   ]
  },
  {
   "cell_type": "code",
   "execution_count": 13,
   "metadata": {},
   "outputs": [
    {
     "name": "stdout",
     "output_type": "stream",
     "text": [
      "film.yago.graph\n",
      "Triple: 593906\n"
     ]
    }
   ],
   "source": [
    "file = 'film.yago.graph'\n",
    "triples = preprocess(file)"
   ]
  },
  {
   "cell_type": "code",
   "execution_count": 14,
   "metadata": {},
   "outputs": [
    {
     "name": "stdout",
     "output_type": "stream",
     "text": [
      "18423\n"
     ]
    }
   ],
   "source": [
    "entities = list(triples.keys())\n",
    "vocabulary = entities\n",
    "print (len(vocabulary))"
   ]
  },
  {
   "cell_type": "code",
   "execution_count": 15,
   "metadata": {},
   "outputs": [
    {
     "data": {
      "text/plain": [
       "['<The_Invisible_Army>',\n",
       " '<James_Pandu>',\n",
       " '<Stavisky>',\n",
       " '<Liberty_(1929_film)>',\n",
       " '<Macbeth_(2006_film)>',\n",
       " '<Tunisian_Victory>',\n",
       " \"<Billy's_Love_Making>\",\n",
       " '<Dog_Days_of_Summer_(film)>',\n",
       " '<A_Perfect_Place>',\n",
       " '<Psychomania>']"
      ]
     },
     "execution_count": 15,
     "metadata": {},
     "output_type": "execute_result"
    }
   ],
   "source": [
    "vocabulary[:10]"
   ]
  },
  {
   "cell_type": "markdown",
   "metadata": {},
   "source": [
    "# Do random walks on the knowledge graph"
   ]
  },
  {
   "cell_type": "code",
   "execution_count": 16,
   "metadata": {},
   "outputs": [],
   "source": [
    "def randomNWalkUniform(triples, n, walks, path_depth):\n",
    "    path=[]\n",
    "    for k in range(walks):\n",
    "        walk = randomWalkUniform(triples, n, path_depth)\n",
    "        path.append(walk)\n",
    "    return path"
   ]
  },
  {
   "cell_type": "code",
   "execution_count": 17,
   "metadata": {},
   "outputs": [
    {
     "name": "stdout",
     "output_type": "stream",
     "text": [
      "[['<The_Invisible_Army>', 'rdf:type', '<wikicat_Black-and-white_films>', ''], ['<The_Invisible_Army>', '-<actedIn>', '<Bodil_Kjer>', ''], ['<The_Invisible_Army>', 'rdf:type', '<wikicat_Danish-language_films>', ''], ['<The_Invisible_Army>', 'rdf:type', '<wikicat_Danish_films>', ''], ['<The_Invisible_Army>', 'rdf:type', '<wikicat_Danish_films>', ''], ['<The_Invisible_Army>', '-<actedIn>', '<Bodil_Kjer>', ''], ['<The_Invisible_Army>', 'rdf:type', '<wikicat_Danish-language_films>', ''], ['<The_Invisible_Army>', 'rdf:type', '<wikicat_Black-and-white_films>', ''], ['<The_Invisible_Army>', '-<directed>', '<Johan_Jacobsen>', ''], ['<The_Invisible_Army>', '-<directed>', '<Johan_Jacobsen>', ''], ['<The_Invisible_Army>', '-<directed>', '<Johan_Jacobsen>', ''], ['<The_Invisible_Army>', 'rdf:type', '<wikicat_Danish_films>', ''], ['<The_Invisible_Army>', 'rdf:type', '<wikicat_Films_directed_by_Johan_Jacobsen>', ''], ['<The_Invisible_Army>', '-<directed>', '<Johan_Jacobsen>', ''], ['<The_Invisible_Army>', '-<directed>', '<Johan_Jacobsen>', ''], ['<The_Invisible_Army>', 'rdf:type', '<wikicat_Films_directed_by_Johan_Jacobsen>', ''], ['<The_Invisible_Army>', 'rdf:type', '<wikicat_World_War_II_films>', ''], ['<The_Invisible_Army>', '-<actedIn>', '<Bodil_Kjer>', ''], ['<The_Invisible_Army>', 'rdf:type', '<wikicat_Black-and-white_films>', ''], ['<The_Invisible_Army>', '-<actedIn>', '<Bodil_Kjer>', '']]\n"
     ]
    }
   ],
   "source": [
    "walks = 20\n",
    "path_depth = 5\n",
    "paths = randomNWalkUniform(triples, entities[0], walks, path_depth)\n",
    "print(paths)"
   ]
  },
  {
   "cell_type": "code",
   "execution_count": 18,
   "metadata": {},
   "outputs": [
    {
     "name": "stdout",
     "output_type": "stream",
     "text": [
      "Time elapsed to generate features: 00:00:03\n"
     ]
    }
   ],
   "source": [
    "\n",
    "walks = 20\n",
    "path_depth = 5\n",
    "\n",
    "start_time =time.time()\n",
    "sentences =[]\n",
    "for word in vocabulary:\n",
    "    sentences.extend( randomNWalkUniform(triples, word, walks, path_depth) )\n",
    "elapsed_time = time.time() - start_time\n",
    "print ('Time elapsed to generate features:',time.strftime(\"%H:%M:%S\", time.gmtime(elapsed_time)))"
   ]
  },
  {
   "cell_type": "code",
   "execution_count": 19,
   "metadata": {},
   "outputs": [],
   "source": [
    "model1 = gensim.models.Word2Vec(size=100, workers=8, window=5, sg=1, negative=15, iter=5)\n",
    "model1.build_vocab(sentences)"
   ]
  },
  {
   "cell_type": "code",
   "execution_count": 20,
   "metadata": {},
   "outputs": [
    {
     "data": {
      "text/plain": [
       "(3822630, 7369200)"
      ]
     },
     "execution_count": 20,
     "metadata": {},
     "output_type": "execute_result"
    }
   ],
   "source": [
    "corpus_count = model1.corpus_count\n",
    "model1.train(sentences, total_examples = corpus_count, epochs = 5)"
   ]
  },
  {
   "cell_type": "code",
   "execution_count": 21,
   "metadata": {},
   "outputs": [
    {
     "name": "stderr",
     "output_type": "stream",
     "text": [
      "/opt/conda/lib/python3.6/site-packages/gensim/matutils.py:737: FutureWarning: Conversion of the second argument of issubdtype from `int` to `np.signedinteger` is deprecated. In future, it will be treated as `np.int64 == np.dtype(int).type`.\n",
      "  if np.issubdtype(vec.dtype, np.int):\n"
     ]
    },
    {
     "data": {
      "text/plain": [
       "[('<Cut_(2000_film)>', 0.9977931976318359),\n",
       " ('<Rossana_(film)>', 0.9973748326301575),\n",
       " ('<Bride_of_Frankenstein>', 0.9970694780349731),\n",
       " ('<Fata_Morgana_(1965_film)>', 0.9969465732574463),\n",
       " ('<D_(film)>', 0.996890127658844),\n",
       " ('<Carandiru_(film)>', 0.9967362880706787),\n",
       " ('<The_Loners>', 0.9967209100723267),\n",
       " ('<Plague_(1978_film)>', 0.996701717376709),\n",
       " ('<De_blaa_drenge>', 0.9966665506362915),\n",
       " ('<The_Terrible_People>', 0.9966117739677429)]"
      ]
     },
     "execution_count": 21,
     "metadata": {},
     "output_type": "execute_result"
    }
   ],
   "source": [
    "model1.wv.most_similar('<The_Invisible_Army>')\n"
   ]
  },
  {
   "cell_type": "code",
   "execution_count": null,
   "metadata": {},
   "outputs": [],
   "source": []
  }
 ],
 "metadata": {
  "kernelspec": {
   "display_name": "Python 3",
   "language": "python",
   "name": "python3"
  },
  "language_info": {
   "codemirror_mode": {
    "name": "ipython",
    "version": 3
   },
   "file_extension": ".py",
   "mimetype": "text/x-python",
   "name": "python",
   "nbconvert_exporter": "python",
   "pygments_lexer": "ipython3",
   "version": "3.6.7"
  }
 },
 "nbformat": 4,
 "nbformat_minor": 2
}
